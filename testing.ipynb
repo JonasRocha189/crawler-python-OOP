{
 "cells": [
  {
   "cell_type": "code",
   "execution_count": 6,
   "metadata": {},
   "outputs": [],
   "source": [
    "import requests\n",
    "from bs4 import BeautifulSoup"
   ]
  },
  {
   "cell_type": "code",
   "execution_count": 3,
   "metadata": {},
   "outputs": [
    {
     "data": {
      "text/plain": [
       "200"
      ]
     },
     "execution_count": 3,
     "metadata": {},
     "output_type": "execute_result"
    }
   ],
   "source": [
    "url = \"https://www.bumper.com/tools/market-value/\"\n",
    "page = requests.get(url)\n",
    "page_status = page.status_code\n",
    "page_status"
   ]
  },
  {
   "cell_type": "code",
   "execution_count": 4,
   "metadata": {},
   "outputs": [],
   "source": [
    "soup = BeautifulSoup(page.text, 'lxml')"
   ]
  },
  {
   "cell_type": "code",
   "execution_count": 38,
   "metadata": {},
   "outputs": [
    {
     "data": {
      "text/plain": [
       "[<meta content=\"Wondering âwhatâs my car worth?â Our vehicle market value appraisal tool leverages numerous data points to provide a high quality estimation of your carâs worth.\" name=\"description\"/>]"
      ]
     },
     "execution_count": 38,
     "metadata": {},
     "output_type": "execute_result"
    }
   ],
   "source": [
    "desc = soup.find_all(\"meta\", {'name':'description'})\n",
    "desc "
   ]
  },
  {
   "cell_type": "code",
   "execution_count": 47,
   "metadata": {},
   "outputs": [],
   "source": [
    "desc2 = soup.find_all(\"meta\", {'name':'description'})\n"
   ]
  },
  {
   "cell_type": "code",
   "execution_count": 49,
   "metadata": {},
   "outputs": [
    {
     "data": {
      "text/plain": [
       "'Wondering â\\x80\\x9cwhatâ\\x80\\x99s my car worth?â\\x80\\x9d Our vehicle market value appraisal tool leverages numerous data points to provide a high quality estimation of your carâ\\x80\\x99s worth.'"
      ]
     },
     "execution_count": 49,
     "metadata": {},
     "output_type": "execute_result"
    }
   ],
   "source": [
    "desc2[0]['content']"
   ]
  },
  {
   "cell_type": "code",
   "execution_count": 51,
   "metadata": {},
   "outputs": [
    {
     "name": "stdout",
     "output_type": "stream",
     "text": [
      "Wondering âwhatâs my car worth?â Our vehicle market value appraisal tool leverages numerous data points to provide a high quality estimation of your carâs worth.\n"
     ]
    }
   ],
   "source": [
    "for d in desc2:\n",
    "  print(d['content'])"
   ]
  },
  {
   "cell_type": "code",
   "execution_count": 5,
   "metadata": {},
   "outputs": [
    {
     "name": "stdout",
     "output_type": "stream",
     "text": [
      "Wondering âwhatâs my car worth?â Our vehicle market value appraisal tool leverages numerous data points to provide a high quality estimation of your carâs worth.\n"
     ]
    }
   ],
   "source": [
    "desc_min = soup.find_all(\"meta\", {'name':'description'})\n",
    "if len(desc_min) != 0:\n",
    "  for dm in desc_min:\n",
    "    print(dm['content'])"
   ]
  },
  {
   "cell_type": "code",
   "execution_count": 15,
   "metadata": {},
   "outputs": [
    {
     "data": {
      "text/plain": [
       "bs4.element.ResultSet"
      ]
     },
     "execution_count": 15,
     "metadata": {},
     "output_type": "execute_result"
    }
   ],
   "source": [
    "type(desc)"
   ]
  },
  {
   "cell_type": "code",
   "execution_count": 16,
   "metadata": {},
   "outputs": [
    {
     "data": {
      "text/plain": [
       "True"
      ]
     },
     "execution_count": 16,
     "metadata": {},
     "output_type": "execute_result"
    }
   ],
   "source": [
    "len(desc) != 0"
   ]
  },
  {
   "cell_type": "code",
   "execution_count": 33,
   "metadata": {},
   "outputs": [
    {
     "ename": "TypeError",
     "evalue": "list indices must be integers or slices, not str",
     "output_type": "error",
     "traceback": [
      "\u001b[1;31m---------------------------------------------------------------------------\u001b[0m",
      "\u001b[1;31mTypeError\u001b[0m                                 Traceback (most recent call last)",
      "Cell \u001b[1;32mIn [33], line 1\u001b[0m\n\u001b[1;32m----> 1\u001b[0m description \u001b[38;5;241m=\u001b[39m \u001b[43mdesc\u001b[49m\u001b[43m[\u001b[49m\u001b[38;5;124;43m\"\u001b[39;49m\u001b[38;5;124;43mcontent\u001b[39;49m\u001b[38;5;124;43m\"\u001b[39;49m\u001b[43m]\u001b[49m \u001b[38;5;28;01mif\u001b[39;00m desc \u001b[38;5;28;01melse\u001b[39;00m \u001b[38;5;28;01mNone\u001b[39;00m\n\u001b[0;32m      2\u001b[0m description\n",
      "\u001b[1;31mTypeError\u001b[0m: list indices must be integers or slices, not str"
     ]
    }
   ],
   "source": [
    "description = desc[\"content\"] if desc else None\n",
    "description"
   ]
  },
  {
   "cell_type": "code",
   "execution_count": 24,
   "metadata": {},
   "outputs": [
    {
     "data": {
      "text/plain": [
       "[<title>How Much Is My Car Worth? Learn Your Vehicle's Market Value |\n",
       "   Bumper</title>]"
      ]
     },
     "execution_count": 24,
     "metadata": {},
     "output_type": "execute_result"
    }
   ],
   "source": [
    "titles = soup.find_all('title')\n",
    "titles"
   ]
  },
  {
   "cell_type": "code",
   "execution_count": 27,
   "metadata": {},
   "outputs": [
    {
     "name": "stdout",
     "output_type": "stream",
     "text": [
      "How Much Is My Car Worth? Learn Your Vehicle's Market Value |\n",
      "  Bumper\n"
     ]
    }
   ],
   "source": [
    "for title in titles:\n",
    "  print(title.get_text())"
   ]
  },
  {
   "cell_type": "code",
   "execution_count": 19,
   "metadata": {},
   "outputs": [],
   "source": [
    "## Content\n",
    "body = soup.find('main')\n",
    "text = body.get_text()"
   ]
  },
  {
   "cell_type": "code",
   "execution_count": 20,
   "metadata": {},
   "outputs": [
    {
     "data": {
      "text/plain": [
       "'\\n\\n\\n\\nHow much is my car worth?\\nThe answer to \"what\\'s my car worth\" is here!\\n\\n\\n\\n\\n\\nAll Years\\n\\nAll Years\\n\\n\\n\\n\\nAll Makes\\n\\nMake\\n\\n\\n\\n\\nAll Models\\n\\nModel\\n\\n\\n\\n\\nAll Trims\\n\\nTrim\\n\\n\\n\\nEmail\\n\\n\\nSee Market Value\\nReset Filter\\n\\n\\nSomething went wrong, please try again later.\\n\\n\\nBy clicking the button above you agree to our Terms of Service and Privacy Policy and you agree to receive emails from Bumper.com.\\n\\n\\n\\n\\n\\n\\nYour Carâ\\x80\\x99s Market Value\\n\\n\\n\\n\\n\\n\\nShare to Facebook\\n\\n\\n\\nShare to Twitter\\n\\n\\n\\nShare via Email\\n\\n\\n\\nCopy link\\n\\n\\n\\n\\n\\n-% estimated certainty\\n\\n\\n\\nAbove Market\\n$-,â\\x80\\x94\\n\\n\\n\\n\\n\\nMarket Average\\n$-,â\\x80\\x94\\n\\n\\n\\n\\n\\nBelow Market\\n$-,â\\x80\\x94\\n\\n\\n\\n\\n$$$\\nMost Expensive\\n\\n\\n$\\nLeast Expensive\\n\\n\\n\\n\\nEstimates based on similar vehicles sold.\\n\\n!We may have additional trade-in values and professional market data.\\nView Data\\n\\n\\n\\n\\n\\n\\nHow to find out how much your car is worth\\n\\n\\n\\n1\\n\\n\\n\\nTell us about your car\\n\\nUtilizing our best-in-class data, weâ\\x80\\x99re able to find your car and estimate a market value based on recent sales from the model you provide us.\\n\\n\\n\\n\\n\\n\\n\\n\\n\\n\\n2\\n\\n\\n\\nDiscover insights about your carâ\\x80\\x99s value\\n\\nBumper looks at recent trends and patterns of similar vehicles sold in recent\\nmonths to help give you a more accurate assessment of the market value of your car model.\\n\\n\\n\\n\\n\\n\\n\\n\\n\\n3\\n\\n\\n\\nWe offer more than just market value\\n\\nOur model specific trade-in values can help you know what is the best\\npossible value for your vehicle when selling privately or to dealerships.\\n\\n\\n\\n\\n\\n\\n\\n\\nTry Bumper Today\\n\\n\\n\\n\\n\\n\\nWhy is Your Carâ\\x80\\x99s Market Value Important?\\nKnowing a vehicleâ\\x80\\x99s worth is important for both buyers and sellers alike.\\n\\n\\n\\n\\nDonâ\\x80\\x99t overpay for a vehicle you plan on purchasing. A market value can help give you negotiating power.\\n\\n\\n\\n\\n\\nDonâ\\x80\\x99t lose a potential buyer by overvaluing your vehicle. A market value can help sell your vehicle fast at a fair price.\\n\\n\\n\\n\\n\\nYour car is one of your most expensive assets. With monitoring, you can be in the know of how the value changes over time.\\n\\n\\n\\n\\n\\n\\n\\nThe Bumper Market Value Advantage\\nBumper has a range of market values to give you the full picture of a vehicleâ\\x80\\x99s value and trade-in value based on its condition. Our market value data is constantly used by professionals and dealerships. With Bumper, you can compare a vehicleâ\\x80\\x99s value based on its history, ownership and much more! \\n\\n\\n\\n\\n\\n\\n\\n\\nCar Value & More\\nAll your vehicle needs under one hood\\n\\n\\n\\n\\n\\n\\n\\nBuy\\n\\nSearch for new and used vehicles for sale by owners or from over 50,000 dealerships nationwide.\\n\\n\\nBrowse\\n\\n\\n\\n\\n\\n\\n\\n\\nVehicle History Reports\\n\\nBuy a vehicle with confidence. Run a Bumper vehicle history report to check for previous accidents,\\nsalvage records, recalls and more.\\n\\n\\nGet a Bumper Report\\n\\n\\n\\n\\n\\n\\n\\n\\nOwn With Ease\\n\\nMonitor your vehicle with My Bumper to receive alerts on market value changes and ways to save money.\\n\\n\\nTry Bumper\\n\\n\\n\\n\\n\\n\\n\\nHome\\n> Tools\\n> Market Value\\n\\n\\n'"
      ]
     },
     "execution_count": 20,
     "metadata": {},
     "output_type": "execute_result"
    }
   ],
   "source": [
    "text"
   ]
  },
  {
   "cell_type": "code",
   "execution_count": 21,
   "metadata": {},
   "outputs": [],
   "source": [
    "test = soup.find('main').find_all('p')"
   ]
  },
  {
   "cell_type": "code",
   "execution_count": 24,
   "metadata": {},
   "outputs": [
    {
     "data": {
      "text/plain": [
       "[<p class=\"section-description section-description--center car-lookup__header-description\">The answer to <strong>\"what's my car worth\"</strong> is here!</p>,\n",
       " <p class=\"car-lookup__form-error js-error\" data-generic-error=\"Something went wrong, please try again later.\" data-not-found=\"No results found. Please try a different search.\">\n",
       " Something went wrong, please try again later.\n",
       " </p>,\n",
       " <p class=\"car-lookup__form-disclaimer js-disclaimer\">\n",
       " By clicking the button above you agree to our <a class=\"car-lookup__form-disclaimer-link\" href=\"/terms/\">Terms of Service</a> and <a class=\"car-lookup__form-disclaimer-link\" href=\"/privacy-policy/\">Privacy Policy</a> and you agree to receive emails from Bumper.com.\n",
       " </p>,\n",
       " <p class=\"car-lookup-value__assurance js-certainty-container\"><strong class=\"car-lookup__value-assurance--emphasis js-certainty\" data-default-value=\"-%\">-%</strong> estimated certainty</p>,\n",
       " <p class=\"car-lookup-value__description\">Above Market</p>,\n",
       " <p class=\"car-lookup-value__price js-above\" data-default-value=\"$-,â\">$-,â</p>,\n",
       " <p class=\"car-lookup-value__description\">Market Average</p>,\n",
       " <p class=\"car-lookup-value__price js-average\" data-default-value=\"$-,â\">$-,â</p>,\n",
       " <p class=\"car-lookup-value__description\">Below Market</p>,\n",
       " <p class=\"car-lookup-value__price js-below\" data-default-value=\"$-,â\">$-,â</p>,\n",
       " <p class=\"car-lookup-value__range-limit-title\">$$$</p>,\n",
       " <p class=\"car-lookup-value__range-limit-label\">Most Expensive</p>,\n",
       " <p class=\"car-lookup-value__range-limit-title\">$</p>,\n",
       " <p class=\"car-lookup-value__range-limit-label\">Least Expensive</p>,\n",
       " <p class=\"car-lookup-value__estimates js-estimates d-none\">Estimates based on<span class=\"js-vehicle-amount\"></span> similar vehicles sold<span class=\"js-dates\" data-double-date=\" between @DATE1 - @DATE2\" data-single-date=\" around @DATE\"></span><span class=\"js-mile-amount\" data-message=\" with @AMT miles\"></span>.</p>,\n",
       " <p class=\"car-lookup-value__market-data-text\"><span class=\"car-lookup-value__market-data-icon\">!</span><span>We may have additional trade-in values and professional market data.</span></p>,\n",
       " <p class=\"how-market-works__step-title\">Tell us about your car</p>,\n",
       " <p class=\"how-market-works__step-description\">\n",
       " Utilizing our best-in-class data, weâre able to find your car and estimate a market value based on recent sales from the model you provide us.\n",
       " </p>,\n",
       " <p class=\"how-market-works__step-title\">Discover insights about your carâs value</p>,\n",
       " <p class=\"how-market-works__step-description\">\n",
       " Bumper looks at recent trends and patterns of similar vehicles sold in recent\n",
       " months to help give you a more accurate assessment of the market value of your car model.\n",
       " </p>,\n",
       " <p class=\"how-market-works__step-title\">We offer more than just market value</p>,\n",
       " <p class=\"how-market-works__step-description\">\n",
       " Our model specific trade-in values can help you know what is the best\n",
       " possible value for your vehicle when selling privately or to dealerships.\n",
       " </p>,\n",
       " <p class=\"section-description section-description--center importance-section__description\">Knowing a vehicleâs worth is important for both buyers and sellers alike.</p>,\n",
       " <p class=\"section-description importance-section__card-description\">\n",
       " Donât overpay for a vehicle you plan on purchasing. A market value can help give you negotiating power.\n",
       " </p>,\n",
       " <p class=\"section-description importance-section__card-description\">\n",
       " Donât lose a potential buyer by overvaluing your vehicle. A market value can help sell your vehicle fast at a fair price.\n",
       " </p>,\n",
       " <p class=\"section-description importance-section__card-description\">\n",
       " Your car is one of your most expensive assets. With monitoring, you can be in the know of how the value changes over time.\n",
       " </p>,\n",
       " <p class=\"section-description market-advantage__text\">Bumper has a range of market values to give you the full picture of a vehicleâs value and trade-in value based on its condition. Our market value data is constantly used by professionals and dealerships. With Bumper, you can compare a vehicleâs <a href=\"https://www.bumper.com/vehicle-history-report/\">value based on its history</a>, ownership and much more! </p>,\n",
       " <p class=\"section-description section-description--center\">All your vehicle needs under one hood</p>,\n",
       " <p class=\"bumper-advantage__card-title\">Buy</p>,\n",
       " <p class=\"bumper-advantage__card-description\">\n",
       " Search for new and used vehicles for sale by owners or from over 50,000 dealerships nationwide.\n",
       " </p>,\n",
       " <p class=\"bumper-advantage__card-title\">Vehicle History Reports</p>,\n",
       " <p class=\"bumper-advantage__card-description\">\n",
       " Buy a vehicle with confidence. Run a Bumper vehicle history report to check for previous accidents,\n",
       " salvage records, recalls and more.\n",
       " </p>,\n",
       " <p class=\"bumper-advantage__card-title\">Own With Ease</p>,\n",
       " <p class=\"bumper-advantage__card-description\">\n",
       " Monitor your vehicle with My Bumper to receive alerts on market value changes and ways to save money.\n",
       " </p>]"
      ]
     },
     "execution_count": 24,
     "metadata": {},
     "output_type": "execute_result"
    }
   ],
   "source": [
    "test"
   ]
  },
  {
   "cell_type": "code",
   "execution_count": null,
   "metadata": {},
   "outputs": [],
   "source": []
  },
  {
   "cell_type": "markdown",
   "metadata": {},
   "source": [
    "## Date"
   ]
  },
  {
   "cell_type": "code",
   "execution_count": 25,
   "metadata": {},
   "outputs": [],
   "source": [
    "import datetime"
   ]
  },
  {
   "cell_type": "code",
   "execution_count": 27,
   "metadata": {},
   "outputs": [],
   "source": [
    "x = datetime.datetime.now()\n"
   ]
  },
  {
   "cell_type": "code",
   "execution_count": 30,
   "metadata": {},
   "outputs": [
    {
     "name": "stdout",
     "output_type": "stream",
     "text": [
      "2024-5-10\n"
     ]
    }
   ],
   "source": [
    "print(f\"{x.year}-{x.month}-{x.day}\")"
   ]
  },
  {
   "cell_type": "code",
   "execution_count": null,
   "metadata": {},
   "outputs": [],
   "source": []
  },
  {
   "cell_type": "markdown",
   "metadata": {},
   "source": [
    "# Create Folder"
   ]
  },
  {
   "cell_type": "code",
   "execution_count": 31,
   "metadata": {},
   "outputs": [],
   "source": [
    "import os"
   ]
  },
  {
   "cell_type": "code",
   "execution_count": 33,
   "metadata": {},
   "outputs": [],
   "source": [
    "os.mkdir(\"./folder\")"
   ]
  },
  {
   "cell_type": "code",
   "execution_count": 37,
   "metadata": {},
   "outputs": [],
   "source": [
    "os.mkdir(f\"./output/{x.year}-{x.month}-{x.day}\")"
   ]
  },
  {
   "cell_type": "code",
   "execution_count": 38,
   "metadata": {},
   "outputs": [
    {
     "data": {
      "text/plain": [
       "True"
      ]
     },
     "execution_count": 38,
     "metadata": {},
     "output_type": "execute_result"
    }
   ],
   "source": [
    "# Check if folder exists\n",
    "\n",
    "os.path.isdir(f\"./output/{x.year}-{x.month}-{x.day}\")"
   ]
  }
 ],
 "metadata": {
  "kernelspec": {
   "display_name": "Python 3",
   "language": "python",
   "name": "python3"
  },
  "language_info": {
   "codemirror_mode": {
    "name": "ipython",
    "version": 3
   },
   "file_extension": ".py",
   "mimetype": "text/x-python",
   "name": "python",
   "nbconvert_exporter": "python",
   "pygments_lexer": "ipython3",
   "version": "3.10.7"
  }
 },
 "nbformat": 4,
 "nbformat_minor": 2
}
