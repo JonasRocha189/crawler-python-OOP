{
 "cells": [
  {
   "cell_type": "code",
   "execution_count": 1,
   "metadata": {},
   "outputs": [],
   "source": [
    "import requests\n",
    "from bs4 import BeautifulSoup"
   ]
  },
  {
   "cell_type": "code",
   "execution_count": 2,
   "metadata": {},
   "outputs": [
    {
     "data": {
      "text/plain": [
       "200"
      ]
     },
     "execution_count": 2,
     "metadata": {},
     "output_type": "execute_result"
    }
   ],
   "source": [
    "url = \"https://www.bumper.com/tools/market-value/\"\n",
    "page = requests.get(url)\n",
    "page_status = page.status_code\n",
    "page_status"
   ]
  },
  {
   "cell_type": "code",
   "execution_count": 3,
   "metadata": {},
   "outputs": [],
   "source": [
    "soup = BeautifulSoup(page.text, 'lxml')"
   ]
  },
  {
   "cell_type": "code",
   "execution_count": 38,
   "metadata": {},
   "outputs": [
    {
     "data": {
      "text/plain": [
       "[<meta content=\"Wondering âwhatâs my car worth?â Our vehicle market value appraisal tool leverages numerous data points to provide a high quality estimation of your carâs worth.\" name=\"description\"/>]"
      ]
     },
     "execution_count": 38,
     "metadata": {},
     "output_type": "execute_result"
    }
   ],
   "source": [
    "desc = soup.find_all(\"meta\", {'name':'description'})\n",
    "desc "
   ]
  },
  {
   "cell_type": "code",
   "execution_count": 47,
   "metadata": {},
   "outputs": [],
   "source": [
    "desc2 = soup.find_all(\"meta\", {'name':'description'})\n"
   ]
  },
  {
   "cell_type": "code",
   "execution_count": 49,
   "metadata": {},
   "outputs": [
    {
     "data": {
      "text/plain": [
       "'Wondering â\\x80\\x9cwhatâ\\x80\\x99s my car worth?â\\x80\\x9d Our vehicle market value appraisal tool leverages numerous data points to provide a high quality estimation of your carâ\\x80\\x99s worth.'"
      ]
     },
     "execution_count": 49,
     "metadata": {},
     "output_type": "execute_result"
    }
   ],
   "source": [
    "desc2[0]['content']"
   ]
  },
  {
   "cell_type": "code",
   "execution_count": 51,
   "metadata": {},
   "outputs": [
    {
     "name": "stdout",
     "output_type": "stream",
     "text": [
      "Wondering âwhatâs my car worth?â Our vehicle market value appraisal tool leverages numerous data points to provide a high quality estimation of your carâs worth.\n"
     ]
    }
   ],
   "source": [
    "for d in desc2:\n",
    "  print(d['content'])"
   ]
  },
  {
   "cell_type": "code",
   "execution_count": 5,
   "metadata": {},
   "outputs": [
    {
     "name": "stdout",
     "output_type": "stream",
     "text": [
      "Wondering âwhatâs my car worth?â Our vehicle market value appraisal tool leverages numerous data points to provide a high quality estimation of your carâs worth.\n"
     ]
    }
   ],
   "source": [
    "desc_min = soup.find_all(\"meta\", {'name':'description'})\n",
    "if len(desc_min) != 0:\n",
    "  for dm in desc_min:\n",
    "    print(dm['content'])"
   ]
  },
  {
   "cell_type": "code",
   "execution_count": 15,
   "metadata": {},
   "outputs": [
    {
     "data": {
      "text/plain": [
       "bs4.element.ResultSet"
      ]
     },
     "execution_count": 15,
     "metadata": {},
     "output_type": "execute_result"
    }
   ],
   "source": [
    "type(desc)"
   ]
  },
  {
   "cell_type": "code",
   "execution_count": 16,
   "metadata": {},
   "outputs": [
    {
     "data": {
      "text/plain": [
       "True"
      ]
     },
     "execution_count": 16,
     "metadata": {},
     "output_type": "execute_result"
    }
   ],
   "source": [
    "len(desc) != 0"
   ]
  },
  {
   "cell_type": "code",
   "execution_count": 33,
   "metadata": {},
   "outputs": [
    {
     "ename": "TypeError",
     "evalue": "list indices must be integers or slices, not str",
     "output_type": "error",
     "traceback": [
      "\u001b[1;31m---------------------------------------------------------------------------\u001b[0m",
      "\u001b[1;31mTypeError\u001b[0m                                 Traceback (most recent call last)",
      "Cell \u001b[1;32mIn [33], line 1\u001b[0m\n\u001b[1;32m----> 1\u001b[0m description \u001b[38;5;241m=\u001b[39m \u001b[43mdesc\u001b[49m\u001b[43m[\u001b[49m\u001b[38;5;124;43m\"\u001b[39;49m\u001b[38;5;124;43mcontent\u001b[39;49m\u001b[38;5;124;43m\"\u001b[39;49m\u001b[43m]\u001b[49m \u001b[38;5;28;01mif\u001b[39;00m desc \u001b[38;5;28;01melse\u001b[39;00m \u001b[38;5;28;01mNone\u001b[39;00m\n\u001b[0;32m      2\u001b[0m description\n",
      "\u001b[1;31mTypeError\u001b[0m: list indices must be integers or slices, not str"
     ]
    }
   ],
   "source": [
    "description = desc[\"content\"] if desc else None\n",
    "description"
   ]
  },
  {
   "cell_type": "code",
   "execution_count": 24,
   "metadata": {},
   "outputs": [
    {
     "data": {
      "text/plain": [
       "[<title>How Much Is My Car Worth? Learn Your Vehicle's Market Value |\n",
       "   Bumper</title>]"
      ]
     },
     "execution_count": 24,
     "metadata": {},
     "output_type": "execute_result"
    }
   ],
   "source": [
    "titles = soup.find_all('title')\n",
    "titles"
   ]
  },
  {
   "cell_type": "code",
   "execution_count": 27,
   "metadata": {},
   "outputs": [
    {
     "name": "stdout",
     "output_type": "stream",
     "text": [
      "How Much Is My Car Worth? Learn Your Vehicle's Market Value |\n",
      "  Bumper\n"
     ]
    }
   ],
   "source": [
    "for title in titles:\n",
    "  print(title.get_text())"
   ]
  },
  {
   "cell_type": "code",
   "execution_count": 19,
   "metadata": {},
   "outputs": [],
   "source": [
    "## Content\n",
    "body = soup.find('main')\n",
    "text = body.get_text()"
   ]
  },
  {
   "cell_type": "code",
   "execution_count": 20,
   "metadata": {},
   "outputs": [
    {
     "data": {
      "text/plain": [
       "'\\n\\n\\n\\nHow much is my car worth?\\nThe answer to \"what\\'s my car worth\" is here!\\n\\n\\n\\n\\n\\nAll Years\\n\\nAll Years\\n\\n\\n\\n\\nAll Makes\\n\\nMake\\n\\n\\n\\n\\nAll Models\\n\\nModel\\n\\n\\n\\n\\nAll Trims\\n\\nTrim\\n\\n\\n\\nEmail\\n\\n\\nSee Market Value\\nReset Filter\\n\\n\\nSomething went wrong, please try again later.\\n\\n\\nBy clicking the button above you agree to our Terms of Service and Privacy Policy and you agree to receive emails from Bumper.com.\\n\\n\\n\\n\\n\\n\\nYour Carâ\\x80\\x99s Market Value\\n\\n\\n\\n\\n\\n\\nShare to Facebook\\n\\n\\n\\nShare to Twitter\\n\\n\\n\\nShare via Email\\n\\n\\n\\nCopy link\\n\\n\\n\\n\\n\\n-% estimated certainty\\n\\n\\n\\nAbove Market\\n$-,â\\x80\\x94\\n\\n\\n\\n\\n\\nMarket Average\\n$-,â\\x80\\x94\\n\\n\\n\\n\\n\\nBelow Market\\n$-,â\\x80\\x94\\n\\n\\n\\n\\n$$$\\nMost Expensive\\n\\n\\n$\\nLeast Expensive\\n\\n\\n\\n\\nEstimates based on similar vehicles sold.\\n\\n!We may have additional trade-in values and professional market data.\\nView Data\\n\\n\\n\\n\\n\\n\\nHow to find out how much your car is worth\\n\\n\\n\\n1\\n\\n\\n\\nTell us about your car\\n\\nUtilizing our best-in-class data, weâ\\x80\\x99re able to find your car and estimate a market value based on recent sales from the model you provide us.\\n\\n\\n\\n\\n\\n\\n\\n\\n\\n\\n2\\n\\n\\n\\nDiscover insights about your carâ\\x80\\x99s value\\n\\nBumper looks at recent trends and patterns of similar vehicles sold in recent\\nmonths to help give you a more accurate assessment of the market value of your car model.\\n\\n\\n\\n\\n\\n\\n\\n\\n\\n3\\n\\n\\n\\nWe offer more than just market value\\n\\nOur model specific trade-in values can help you know what is the best\\npossible value for your vehicle when selling privately or to dealerships.\\n\\n\\n\\n\\n\\n\\n\\n\\nTry Bumper Today\\n\\n\\n\\n\\n\\n\\nWhy is Your Carâ\\x80\\x99s Market Value Important?\\nKnowing a vehicleâ\\x80\\x99s worth is important for both buyers and sellers alike.\\n\\n\\n\\n\\nDonâ\\x80\\x99t overpay for a vehicle you plan on purchasing. A market value can help give you negotiating power.\\n\\n\\n\\n\\n\\nDonâ\\x80\\x99t lose a potential buyer by overvaluing your vehicle. A market value can help sell your vehicle fast at a fair price.\\n\\n\\n\\n\\n\\nYour car is one of your most expensive assets. With monitoring, you can be in the know of how the value changes over time.\\n\\n\\n\\n\\n\\n\\n\\nThe Bumper Market Value Advantage\\nBumper has a range of market values to give you the full picture of a vehicleâ\\x80\\x99s value and trade-in value based on its condition. Our market value data is constantly used by professionals and dealerships. With Bumper, you can compare a vehicleâ\\x80\\x99s value based on its history, ownership and much more! \\n\\n\\n\\n\\n\\n\\n\\n\\nCar Value & More\\nAll your vehicle needs under one hood\\n\\n\\n\\n\\n\\n\\n\\nBuy\\n\\nSearch for new and used vehicles for sale by owners or from over 50,000 dealerships nationwide.\\n\\n\\nBrowse\\n\\n\\n\\n\\n\\n\\n\\n\\nVehicle History Reports\\n\\nBuy a vehicle with confidence. Run a Bumper vehicle history report to check for previous accidents,\\nsalvage records, recalls and more.\\n\\n\\nGet a Bumper Report\\n\\n\\n\\n\\n\\n\\n\\n\\nOwn With Ease\\n\\nMonitor your vehicle with My Bumper to receive alerts on market value changes and ways to save money.\\n\\n\\nTry Bumper\\n\\n\\n\\n\\n\\n\\n\\nHome\\n> Tools\\n> Market Value\\n\\n\\n'"
      ]
     },
     "execution_count": 20,
     "metadata": {},
     "output_type": "execute_result"
    }
   ],
   "source": [
    "text"
   ]
  },
  {
   "cell_type": "code",
   "execution_count": 21,
   "metadata": {},
   "outputs": [],
   "source": [
    "test = soup.find('main').find_all('p')"
   ]
  },
  {
   "cell_type": "code",
   "execution_count": 24,
   "metadata": {},
   "outputs": [
    {
     "data": {
      "text/plain": [
       "[<p class=\"section-description section-description--center car-lookup__header-description\">The answer to <strong>\"what's my car worth\"</strong> is here!</p>,\n",
       " <p class=\"car-lookup__form-error js-error\" data-generic-error=\"Something went wrong, please try again later.\" data-not-found=\"No results found. Please try a different search.\">\n",
       " Something went wrong, please try again later.\n",
       " </p>,\n",
       " <p class=\"car-lookup__form-disclaimer js-disclaimer\">\n",
       " By clicking the button above you agree to our <a class=\"car-lookup__form-disclaimer-link\" href=\"/terms/\">Terms of Service</a> and <a class=\"car-lookup__form-disclaimer-link\" href=\"/privacy-policy/\">Privacy Policy</a> and you agree to receive emails from Bumper.com.\n",
       " </p>,\n",
       " <p class=\"car-lookup-value__assurance js-certainty-container\"><strong class=\"car-lookup__value-assurance--emphasis js-certainty\" data-default-value=\"-%\">-%</strong> estimated certainty</p>,\n",
       " <p class=\"car-lookup-value__description\">Above Market</p>,\n",
       " <p class=\"car-lookup-value__price js-above\" data-default-value=\"$-,â\">$-,â</p>,\n",
       " <p class=\"car-lookup-value__description\">Market Average</p>,\n",
       " <p class=\"car-lookup-value__price js-average\" data-default-value=\"$-,â\">$-,â</p>,\n",
       " <p class=\"car-lookup-value__description\">Below Market</p>,\n",
       " <p class=\"car-lookup-value__price js-below\" data-default-value=\"$-,â\">$-,â</p>,\n",
       " <p class=\"car-lookup-value__range-limit-title\">$$$</p>,\n",
       " <p class=\"car-lookup-value__range-limit-label\">Most Expensive</p>,\n",
       " <p class=\"car-lookup-value__range-limit-title\">$</p>,\n",
       " <p class=\"car-lookup-value__range-limit-label\">Least Expensive</p>,\n",
       " <p class=\"car-lookup-value__estimates js-estimates d-none\">Estimates based on<span class=\"js-vehicle-amount\"></span> similar vehicles sold<span class=\"js-dates\" data-double-date=\" between @DATE1 - @DATE2\" data-single-date=\" around @DATE\"></span><span class=\"js-mile-amount\" data-message=\" with @AMT miles\"></span>.</p>,\n",
       " <p class=\"car-lookup-value__market-data-text\"><span class=\"car-lookup-value__market-data-icon\">!</span><span>We may have additional trade-in values and professional market data.</span></p>,\n",
       " <p class=\"how-market-works__step-title\">Tell us about your car</p>,\n",
       " <p class=\"how-market-works__step-description\">\n",
       " Utilizing our best-in-class data, weâre able to find your car and estimate a market value based on recent sales from the model you provide us.\n",
       " </p>,\n",
       " <p class=\"how-market-works__step-title\">Discover insights about your carâs value</p>,\n",
       " <p class=\"how-market-works__step-description\">\n",
       " Bumper looks at recent trends and patterns of similar vehicles sold in recent\n",
       " months to help give you a more accurate assessment of the market value of your car model.\n",
       " </p>,\n",
       " <p class=\"how-market-works__step-title\">We offer more than just market value</p>,\n",
       " <p class=\"how-market-works__step-description\">\n",
       " Our model specific trade-in values can help you know what is the best\n",
       " possible value for your vehicle when selling privately or to dealerships.\n",
       " </p>,\n",
       " <p class=\"section-description section-description--center importance-section__description\">Knowing a vehicleâs worth is important for both buyers and sellers alike.</p>,\n",
       " <p class=\"section-description importance-section__card-description\">\n",
       " Donât overpay for a vehicle you plan on purchasing. A market value can help give you negotiating power.\n",
       " </p>,\n",
       " <p class=\"section-description importance-section__card-description\">\n",
       " Donât lose a potential buyer by overvaluing your vehicle. A market value can help sell your vehicle fast at a fair price.\n",
       " </p>,\n",
       " <p class=\"section-description importance-section__card-description\">\n",
       " Your car is one of your most expensive assets. With monitoring, you can be in the know of how the value changes over time.\n",
       " </p>,\n",
       " <p class=\"section-description market-advantage__text\">Bumper has a range of market values to give you the full picture of a vehicleâs value and trade-in value based on its condition. Our market value data is constantly used by professionals and dealerships. With Bumper, you can compare a vehicleâs <a href=\"https://www.bumper.com/vehicle-history-report/\">value based on its history</a>, ownership and much more! </p>,\n",
       " <p class=\"section-description section-description--center\">All your vehicle needs under one hood</p>,\n",
       " <p class=\"bumper-advantage__card-title\">Buy</p>,\n",
       " <p class=\"bumper-advantage__card-description\">\n",
       " Search for new and used vehicles for sale by owners or from over 50,000 dealerships nationwide.\n",
       " </p>,\n",
       " <p class=\"bumper-advantage__card-title\">Vehicle History Reports</p>,\n",
       " <p class=\"bumper-advantage__card-description\">\n",
       " Buy a vehicle with confidence. Run a Bumper vehicle history report to check for previous accidents,\n",
       " salvage records, recalls and more.\n",
       " </p>,\n",
       " <p class=\"bumper-advantage__card-title\">Own With Ease</p>,\n",
       " <p class=\"bumper-advantage__card-description\">\n",
       " Monitor your vehicle with My Bumper to receive alerts on market value changes and ways to save money.\n",
       " </p>]"
      ]
     },
     "execution_count": 24,
     "metadata": {},
     "output_type": "execute_result"
    }
   ],
   "source": [
    "test"
   ]
  },
  {
   "cell_type": "code",
   "execution_count": 10,
   "metadata": {},
   "outputs": [],
   "source": [
    "# Links\n",
    "links = []\n",
    "links_soup = soup.find_all('a')\n",
    "# print(f\"Links found: {len(links)}\")\n",
    "\n",
    "for link in links_soup:\n",
    "  if 'href' in link.attrs:\n",
    "    links.append([link.text, link.attrs['href']] )"
   ]
  },
  {
   "cell_type": "code",
   "execution_count": 11,
   "metadata": {},
   "outputs": [
    {
     "data": {
      "text/plain": [
       "[['\\n\\n', 'https://www.bumper.com/'],\n",
       " ['VIN Lookup', '/vin-decoder/'],\n",
       " ['License Plate Lookup', '/license-plate-lookup/'],\n",
       " ['Vehicle History Report', '/vehicle-history-report/'],\n",
       " ['Vehicle Title Search', '/vehicle-title-search/'],\n",
       " ['Vehicle Recall Check', '/vehicle-recall-check/'],\n",
       " ['Branded Title Check', '/branded-title-check/'],\n",
       " ['\\nTools\\n\\n', '/tools/'],\n",
       " ['Whatâ\\x80\\x99s My Car Worth', '/tools/market-value/'],\n",
       " ['Car Research Tool', '/tools/car-research-tool/'],\n",
       " ['Compare Vehicles', '/tools/compare-cars/'],\n",
       " ['Car Depreciation Calculator', '/car-depreciation-calculator/'],\n",
       " ['Marketplace', 'https://www.bumper.com/cars-for-sale/'],\n",
       " ['Sell Your Car', 'https://www.bumper.com/marketplace/sell-your-car/'],\n",
       " ['\\nAnalysis\\n\\n', '/blog/'],\n",
       " ['Data Studies', '/analysis/'],\n",
       " ['Car Buying', '/car-buying/'],\n",
       " ['Car Selling', '/car-selling/'],\n",
       " ['Car Advice', '/car-advice/'],\n",
       " ['API', 'https://www.bumper.com/auto-api/'],\n",
       " ['Log In', 'https://www.bumper.com/login/'],\n",
       " ['Sign Up',\n",
       "  'https://www.bumper.com/lp/114010/5/subscribe?direct_to_subscribe=true'],\n",
       " ['VIN Lookup', '/vin-decoder/'],\n",
       " ['API', 'https://www.bumper.com/auto-api/'],\n",
       " ['License Plate Lookup', '/license-plate-lookup/'],\n",
       " ['Vehicle History Report', '/vehicle-history-report/'],\n",
       " ['Vehicle Title Search', '/vehicle-title-search/'],\n",
       " ['Vehicle Recall Check', '/vehicle-recall-check/'],\n",
       " ['Branded Title Check', '/branded-title-check/'],\n",
       " ['Whatâ\\x80\\x99s My Car Worth', '/tools/market-value/'],\n",
       " ['Car Research Tool', '/tools/car-research-tool/'],\n",
       " ['Compare Vehicles', '/tools/compare-cars/'],\n",
       " ['Car Depreciation Calculator', '/car-depreciation-calculator/'],\n",
       " ['Marketplace', 'https://www.bumper.com/cars-for-sale/'],\n",
       " ['Sell Your Car', '/tools/sell-your-car/'],\n",
       " ['Data Studies', '/analysis/'],\n",
       " ['Car Buying', '/car-buying/'],\n",
       " ['Car Selling', '/car-selling/'],\n",
       " ['Car Advice', '/car-advice/'],\n",
       " ['Log In', 'https://www.bumper.com/login/'],\n",
       " ['Sign Up',\n",
       "  'https://www.bumper.com/lp/114010/5/subscribe?direct_to_subscribe=true'],\n",
       " ['Terms of Service', '/terms/'],\n",
       " ['Privacy Policy', '/privacy-policy/'],\n",
       " ['\\n\\nShare to Facebook\\n', ''],\n",
       " ['\\n\\nShare to Twitter\\n', ''],\n",
       " ['\\n\\nShare via Email\\n', ''],\n",
       " ['View Data', 'https://www.bumper.com/lp/27fa71/4/special-offer'],\n",
       " ['Try Bumper Today', 'https://www.bumper.com/lp/27fa71/4/special-offer'],\n",
       " ['value based on its history',\n",
       "  'https://www.bumper.com/vehicle-history-report/'],\n",
       " ['Browse', '\\nhttps://www.bumper.com/cars-for-sale/'],\n",
       " ['Get a Bumper Report', 'https://www.bumper.com/vehicle-history-report/'],\n",
       " ['Try Bumper', 'https://www.bumper.com/lp/27fa71/3/building-report'],\n",
       " ['Home', '/'],\n",
       " ['Tools', '/tools/'],\n",
       " ['About Bumper', 'https://www.bumper.com/about/'],\n",
       " ['iOS App', 'https://apps.apple.com/TT/app/id1543977359?mt=8'],\n",
       " ['Android App', 'https://play.google.com/store/apps/details?id=com.bumper'],\n",
       " ['Blog', 'https://www.bumper.com/blog/'],\n",
       " ['Sample Report', 'https://www.bumper.com/sample-report/'],\n",
       " ['Careers', 'https://www.ltvco.com/careers/'],\n",
       " ['Press', 'https://www.bumper.com/press/'],\n",
       " ['Sell Your Car', 'https://www.bumper.com/marketplace/sell-your-car/'],\n",
       " ['Vehicle Comparison', 'https://www.bumper.com/tools/compare-cars/'],\n",
       " ['Market Value', 'https://www.bumper.com/tools/market-value/'],\n",
       " ['Marketplace', 'https://www.bumper.com/cars-for-sale/'],\n",
       " ['Car Research Tool', 'https://www.bumper.com/tools/car-research-tool/'],\n",
       " ['VIN Decoder', 'https://www.bumper.com/vin-decoder/'],\n",
       " ['Car Depreciation Calculator',\n",
       "  'https://www.bumper.com/car-depreciation-calculator/ '],\n",
       " ['License Plate Search', 'https://www.bumper.com/license-plate-lookup/'],\n",
       " ['Vehicle Recall Check', 'https://www.bumper.com/vehicle-recall-check/'],\n",
       " ['Branded Title Check', 'https://www.bumper.com/branded-title-check/'],\n",
       " ['Year Make Model Search', 'https://www.bumper.com/?searchtype=ymm'],\n",
       " ['Vehicles for Sale', 'https://www.bumper.com/cars-for-sale/'],\n",
       " ['Car Title Search', 'https://www.bumper.com/vehicle-title-search/'],\n",
       " ['Vehicle History Report', 'https://www.bumper.com/vehicle-history-report/'],\n",
       " ['Get Bumper Data/B2B', 'https://www.bumper.com/auto-api/'],\n",
       " ['Support', 'https://support.bumper.com/'],\n",
       " ['Contact Us', 'https://www.bumper.com/contact/'],\n",
       " ['FAQ', 'https://support.bumper.com/'],\n",
       " ['Partner Program', 'https://forms.gle/MsshKYQfoMsdmP459'],\n",
       " ['Join our Affiliate Program', 'https://www.bumper.com/affiliates/'],\n",
       " ['Sitemap', 'https://www.bumper.com/sitemap/'],\n",
       " ['Do Not Sell or Share My Personal Information',\n",
       "  'https://www.bumper.com/app/optout/search'],\n",
       " ['\\n\\n\\n\\n', 'https://www.instagram.com/bumperdotcom/'],\n",
       " ['\\n\\n\\n\\n', 'https://facebook.com/bumperdotcom/'],\n",
       " ['\\n\\n\\n\\n', 'https://www.tiktok.com/@bumperdotcom'],\n",
       " ['\\n\\n\\n\\n', 'https://www.youtube.com/c/Bumperdotcom'],\n",
       " ['\\n\\n\\n\\n', 'https://twitter.com/bumperdotcom/'],\n",
       " ['\\n\\n\\n\\n', 'https://www.linkedin.com/company/bumperdotcom/'],\n",
       " ['\\n\\n\\n\\n', 'https://www.pinterest.com/bumperdotcom/'],\n",
       " ['+1-332-225-9745', 'tel:+1-332-225-9745'],\n",
       " ['[email\\xa0protected]',\n",
       "  '/cdn-cgi/l/email-protection#c2b1b7b2b2adb0b682a0b7afb2a7b0eca1adaf'],\n",
       " ['Terms & Conditions', 'https://www.bumper.com/terms/'],\n",
       " ['Privacy Policy', 'https://www.bumper.com/privacy-policy/']]"
      ]
     },
     "execution_count": 11,
     "metadata": {},
     "output_type": "execute_result"
    }
   ],
   "source": [
    "links"
   ]
  },
  {
   "cell_type": "markdown",
   "metadata": {},
   "source": [
    "## Date"
   ]
  },
  {
   "cell_type": "code",
   "execution_count": 6,
   "metadata": {},
   "outputs": [],
   "source": [
    "import datetime"
   ]
  },
  {
   "cell_type": "code",
   "execution_count": 7,
   "metadata": {},
   "outputs": [],
   "source": [
    "x = datetime.datetime.now()\n"
   ]
  },
  {
   "cell_type": "code",
   "execution_count": 30,
   "metadata": {},
   "outputs": [
    {
     "name": "stdout",
     "output_type": "stream",
     "text": [
      "2024-5-10\n"
     ]
    }
   ],
   "source": [
    "print(f\"{x.year}-{x.month}-{x.day}\")"
   ]
  },
  {
   "cell_type": "code",
   "execution_count": null,
   "metadata": {},
   "outputs": [],
   "source": []
  },
  {
   "cell_type": "markdown",
   "metadata": {},
   "source": [
    "# Create Folder"
   ]
  },
  {
   "cell_type": "code",
   "execution_count": 12,
   "metadata": {},
   "outputs": [],
   "source": [
    "import os"
   ]
  },
  {
   "cell_type": "code",
   "execution_count": 5,
   "metadata": {},
   "outputs": [],
   "source": [
    "os.mkdir(\"./folder\")"
   ]
  },
  {
   "cell_type": "code",
   "execution_count": 37,
   "metadata": {},
   "outputs": [],
   "source": [
    "os.mkdir(f\"./output/{x.year}-{x.month}-{x.day}\")"
   ]
  },
  {
   "cell_type": "code",
   "execution_count": 38,
   "metadata": {},
   "outputs": [
    {
     "data": {
      "text/plain": [
       "True"
      ]
     },
     "execution_count": 38,
     "metadata": {},
     "output_type": "execute_result"
    }
   ],
   "source": [
    "# Check if folder exists\n",
    "\n",
    "os.path.isdir(f\"./output/{x.year}-{x.month}-{x.day}\")"
   ]
  },
  {
   "cell_type": "code",
   "execution_count": 29,
   "metadata": {},
   "outputs": [
    {
     "name": "stdout",
     "output_type": "stream",
     "text": [
      "2\n"
     ]
    }
   ],
   "source": [
    "# Count folders\n",
    "print(len(os.listdir(f'./output/{x.year}-{x.month}-{x.day}/')))"
   ]
  },
  {
   "cell_type": "code",
   "execution_count": 24,
   "metadata": {},
   "outputs": [
    {
     "name": "stdout",
     "output_type": "stream",
     "text": [
      "3\n"
     ]
    }
   ],
   "source": [
    "print(len(next(os.walk('./output/'))[1]))"
   ]
  },
  {
   "cell_type": "code",
   "execution_count": 32,
   "metadata": {},
   "outputs": [
    {
     "data": {
      "text/plain": [
       "0"
      ]
     },
     "execution_count": 32,
     "metadata": {},
     "output_type": "execute_result"
    }
   ],
   "source": [
    "folders = len(os.listdir(f'./output/{x.year}-{x.month}-{x.day}/'))\n",
    "\n",
    "folders"
   ]
  },
  {
   "cell_type": "code",
   "execution_count": 33,
   "metadata": {},
   "outputs": [
    {
     "data": {
      "text/plain": [
       "int"
      ]
     },
     "execution_count": 33,
     "metadata": {},
     "output_type": "execute_result"
    }
   ],
   "source": [
    "type(folders)"
   ]
  },
  {
   "cell_type": "code",
   "execution_count": 31,
   "metadata": {},
   "outputs": [
    {
     "ename": "TypeError",
     "evalue": "object of type 'int' has no len()",
     "output_type": "error",
     "traceback": [
      "\u001b[1;31m---------------------------------------------------------------------------\u001b[0m",
      "\u001b[1;31mTypeError\u001b[0m                                 Traceback (most recent call last)",
      "Cell \u001b[1;32mIn [31], line 2\u001b[0m\n\u001b[0;32m      1\u001b[0m folders \u001b[38;5;241m=\u001b[39m \u001b[38;5;28mlen\u001b[39m(os\u001b[38;5;241m.\u001b[39mlistdir(\u001b[38;5;124mf\u001b[39m\u001b[38;5;124m'\u001b[39m\u001b[38;5;124m./output/\u001b[39m\u001b[38;5;132;01m{\u001b[39;00mx\u001b[38;5;241m.\u001b[39myear\u001b[38;5;132;01m}\u001b[39;00m\u001b[38;5;124m-\u001b[39m\u001b[38;5;132;01m{\u001b[39;00mx\u001b[38;5;241m.\u001b[39mmonth\u001b[38;5;132;01m}\u001b[39;00m\u001b[38;5;124m-\u001b[39m\u001b[38;5;132;01m{\u001b[39;00mx\u001b[38;5;241m.\u001b[39mday\u001b[38;5;132;01m}\u001b[39;00m\u001b[38;5;124m/\u001b[39m\u001b[38;5;124m'\u001b[39m))\n\u001b[1;32m----> 2\u001b[0m \u001b[38;5;28;01mif\u001b[39;00m \u001b[38;5;28;43mlen\u001b[39;49m\u001b[43m(\u001b[49m\u001b[43mfolders\u001b[49m\u001b[43m)\u001b[49m \u001b[38;5;241m==\u001b[39m \u001b[38;5;241m0\u001b[39m : \n\u001b[0;32m      3\u001b[0m   os\u001b[38;5;241m.\u001b[39mmkdir(\u001b[38;5;124mf\u001b[39m\u001b[38;5;124m\"\u001b[39m\u001b[38;5;124m./output/\u001b[39m\u001b[38;5;132;01m{\u001b[39;00mx\u001b[38;5;241m.\u001b[39myear\u001b[38;5;132;01m}\u001b[39;00m\u001b[38;5;124m-\u001b[39m\u001b[38;5;132;01m{\u001b[39;00mx\u001b[38;5;241m.\u001b[39mmonth\u001b[38;5;132;01m}\u001b[39;00m\u001b[38;5;124m-\u001b[39m\u001b[38;5;132;01m{\u001b[39;00mx\u001b[38;5;241m.\u001b[39mday\u001b[38;5;132;01m}\u001b[39;00m\u001b[38;5;124m/1\u001b[39m\u001b[38;5;124m\"\u001b[39m)\n",
      "\u001b[1;31mTypeError\u001b[0m: object of type 'int' has no len()"
     ]
    }
   ],
   "source": [
    "\n",
    "if len(folders) == 0 : \n",
    "  os.mkdir(f\"./output/{x.year}-{x.month}-{x.day}/1\")"
   ]
  },
  {
   "cell_type": "markdown",
   "metadata": {},
   "source": [
    "## Content"
   ]
  },
  {
   "cell_type": "code",
   "execution_count": 46,
   "metadata": {},
   "outputs": [],
   "source": [
    "# H Heads\n",
    "\n",
    "h1 = []\n",
    "h1_count = 0"
   ]
  },
  {
   "cell_type": "code",
   "execution_count": 47,
   "metadata": {},
   "outputs": [],
   "source": [
    "h1_soup = soup.find_all(\"h1\")"
   ]
  },
  {
   "cell_type": "code",
   "execution_count": 48,
   "metadata": {},
   "outputs": [
    {
     "data": {
      "text/plain": [
       "True"
      ]
     },
     "execution_count": 48,
     "metadata": {},
     "output_type": "execute_result"
    }
   ],
   "source": [
    "h1_soup != 0"
   ]
  },
  {
   "cell_type": "code",
   "execution_count": 49,
   "metadata": {},
   "outputs": [],
   "source": [
    "if h1_soup != 0 : \n",
    "  for h in h1_soup:\n",
    "    h1.append(h.get_text())\n",
    "    h1_count += 1"
   ]
  },
  {
   "cell_type": "code",
   "execution_count": 50,
   "metadata": {},
   "outputs": [
    {
     "data": {
      "text/plain": [
       "['How much is my car worth?']"
      ]
     },
     "execution_count": 50,
     "metadata": {},
     "output_type": "execute_result"
    }
   ],
   "source": [
    "h1"
   ]
  },
  {
   "cell_type": "code",
   "execution_count": 51,
   "metadata": {},
   "outputs": [
    {
     "data": {
      "text/plain": [
       "1"
      ]
     },
     "execution_count": 51,
     "metadata": {},
     "output_type": "execute_result"
    }
   ],
   "source": [
    "h1_count"
   ]
  },
  {
   "cell_type": "code",
   "execution_count": 13,
   "metadata": {},
   "outputs": [],
   "source": [
    "lista = [1,2,3]"
   ]
  },
  {
   "cell_type": "code",
   "execution_count": 10,
   "metadata": {},
   "outputs": [],
   "source": [
    "def check(num):\n",
    "  if num not in lista:\n",
    "    print(\"NOT\")\n",
    "  else: \n",
    "    print(\"IN\")"
   ]
  },
  {
   "cell_type": "code",
   "execution_count": 14,
   "metadata": {},
   "outputs": [
    {
     "name": "stdout",
     "output_type": "stream",
     "text": [
      "IN\n"
     ]
    }
   ],
   "source": [
    "check(1)"
   ]
  },
  {
   "cell_type": "markdown",
   "metadata": {},
   "source": [
    "# Log"
   ]
  },
  {
   "cell_type": "code",
   "execution_count": 45,
   "metadata": {},
   "outputs": [],
   "source": [
    "# create a file\n",
    "f = open(\"demofile.txt\", 'x')"
   ]
  },
  {
   "cell_type": "code",
   "execution_count": 46,
   "metadata": {},
   "outputs": [],
   "source": [
    "text = \"hello world\"\n",
    "i = 0\n",
    "while i < 10:\n",
    "  with open(\"demofile.txt\", 'a') as arq:\n",
    "      arq.write(\"\")\n",
    "      arq.write(f\"{text} + {i} \\n\")\n",
    "      arq.close()\n",
    "      i += 1"
   ]
  },
  {
   "cell_type": "code",
   "execution_count": 47,
   "metadata": {},
   "outputs": [
    {
     "name": "stdout",
     "output_type": "stream",
     "text": [
      "Yes\n"
     ]
    }
   ],
   "source": [
    "if not os.path.exists(\"demofile.txt\"):\n",
    "  print(\"No\")\n",
    "else: \n",
    "  print('Yes')"
   ]
  },
  {
   "cell_type": "code",
   "execution_count": 48,
   "metadata": {},
   "outputs": [
    {
     "name": "stdout",
     "output_type": "stream",
     "text": [
      "hello\n",
      "0.0\n"
     ]
    }
   ],
   "source": [
    "import time\n",
    "\n",
    "start = time.time()\n",
    "print(\"hello\")\n",
    "end = time.time()\n",
    "print(end - start)"
   ]
  },
  {
   "cell_type": "code",
   "execution_count": 49,
   "metadata": {},
   "outputs": [
    {
     "name": "stdout",
     "output_type": "stream",
     "text": [
      "1715789213.2890496\n"
     ]
    }
   ],
   "source": [
    "print(start)"
   ]
  },
  {
   "cell_type": "code",
   "execution_count": null,
   "metadata": {},
   "outputs": [],
   "source": []
  },
  {
   "cell_type": "markdown",
   "metadata": {},
   "source": [
    "# Save main output"
   ]
  },
  {
   "cell_type": "code",
   "execution_count": 50,
   "metadata": {},
   "outputs": [],
   "source": [
    "import pandas as pd"
   ]
  },
  {
   "cell_type": "code",
   "execution_count": 72,
   "metadata": {},
   "outputs": [],
   "source": [
    "urls = pd.read_csv('urls-total.csv')"
   ]
  },
  {
   "cell_type": "code",
   "execution_count": 73,
   "metadata": {},
   "outputs": [
    {
     "name": "stdout",
     "output_type": "stream",
     "text": [
      "<class 'pandas.core.frame.DataFrame'>\n",
      "RangeIndex: 2839 entries, 0 to 2838\n",
      "Data columns (total 1 columns):\n",
      " #   Column  Non-Null Count  Dtype \n",
      "---  ------  --------------  ----- \n",
      " 0   0       2839 non-null   object\n",
      "dtypes: object(1)\n",
      "memory usage: 22.3+ KB\n"
     ]
    }
   ],
   "source": [
    "urls.info()"
   ]
  },
  {
   "cell_type": "code",
   "execution_count": 74,
   "metadata": {},
   "outputs": [
    {
     "name": "stdout",
     "output_type": "stream",
     "text": [
      "<class 'pandas.core.frame.DataFrame'>\n",
      "RangeIndex: 986 entries, 0 to 985\n",
      "Data columns (total 1 columns):\n",
      " #   Column  Non-Null Count  Dtype \n",
      "---  ------  --------------  ----- \n",
      " 0   0       986 non-null    object\n",
      "dtypes: object(1)\n",
      "memory usage: 7.8+ KB\n"
     ]
    }
   ],
   "source": [
    "urls_crawled = pd.read_csv('urls-crawled.csv')\n",
    "urls_crawled.info()"
   ]
  },
  {
   "cell_type": "code",
   "execution_count": null,
   "metadata": {},
   "outputs": [],
   "source": []
  },
  {
   "cell_type": "code",
   "execution_count": 75,
   "metadata": {},
   "outputs": [
    {
     "name": "stdout",
     "output_type": "stream",
     "text": [
      "<class 'pandas.core.frame.DataFrame'>\n",
      "RangeIndex: 5430 entries, 0 to 5429\n",
      "Data columns (total 1 columns):\n",
      " #   Column  Non-Null Count  Dtype \n",
      "---  ------  --------------  ----- \n",
      " 0   0       5430 non-null   object\n",
      "dtypes: object(1)\n",
      "memory usage: 42.5+ KB\n"
     ]
    }
   ],
   "source": [
    "urls2 = pd.read_csv('urls-total.csv')\n",
    "urls2.info()"
   ]
  },
  {
   "cell_type": "code",
   "execution_count": 76,
   "metadata": {},
   "outputs": [
    {
     "name": "stdout",
     "output_type": "stream",
     "text": [
      "<class 'pandas.core.frame.DataFrame'>\n",
      "RangeIndex: 1946 entries, 0 to 1945\n",
      "Data columns (total 1 columns):\n",
      " #   Column  Non-Null Count  Dtype \n",
      "---  ------  --------------  ----- \n",
      " 0   0       1946 non-null   object\n",
      "dtypes: object(1)\n",
      "memory usage: 15.3+ KB\n"
     ]
    }
   ],
   "source": [
    "urls_crawled2 = pd.read_csv('urls-crawled.csv')\n",
    "urls_crawled2.info()"
   ]
  },
  {
   "cell_type": "code",
   "execution_count": null,
   "metadata": {},
   "outputs": [],
   "source": []
  },
  {
   "cell_type": "code",
   "execution_count": 77,
   "metadata": {},
   "outputs": [
    {
     "name": "stdout",
     "output_type": "stream",
     "text": [
      "<class 'pandas.core.frame.DataFrame'>\n",
      "RangeIndex: 18727 entries, 0 to 18726\n",
      "Data columns (total 1 columns):\n",
      " #   Column  Non-Null Count  Dtype \n",
      "---  ------  --------------  ----- \n",
      " 0   0       18727 non-null  object\n",
      "dtypes: object(1)\n",
      "memory usage: 146.4+ KB\n"
     ]
    }
   ],
   "source": [
    "urls3 = pd.read_csv('urls-total.csv')\n",
    "urls3.info()"
   ]
  },
  {
   "cell_type": "code",
   "execution_count": 78,
   "metadata": {},
   "outputs": [
    {
     "name": "stdout",
     "output_type": "stream",
     "text": [
      "<class 'pandas.core.frame.DataFrame'>\n",
      "RangeIndex: 2925 entries, 0 to 2924\n",
      "Data columns (total 1 columns):\n",
      " #   Column  Non-Null Count  Dtype \n",
      "---  ------  --------------  ----- \n",
      " 0   0       2925 non-null   object\n",
      "dtypes: object(1)\n",
      "memory usage: 23.0+ KB\n"
     ]
    }
   ],
   "source": [
    "urls_crawled3 = pd.read_csv('urls-crawled.csv')\n",
    "urls_crawled3.info()"
   ]
  },
  {
   "cell_type": "code",
   "execution_count": null,
   "metadata": {},
   "outputs": [],
   "source": []
  },
  {
   "cell_type": "code",
   "execution_count": 79,
   "metadata": {},
   "outputs": [
    {
     "name": "stdout",
     "output_type": "stream",
     "text": [
      "<class 'pandas.core.frame.DataFrame'>\n",
      "RangeIndex: 31969 entries, 0 to 31968\n",
      "Data columns (total 1 columns):\n",
      " #   Column  Non-Null Count  Dtype \n",
      "---  ------  --------------  ----- \n",
      " 0   0       31969 non-null  object\n",
      "dtypes: object(1)\n",
      "memory usage: 249.9+ KB\n"
     ]
    }
   ],
   "source": [
    "urls4 = pd.read_csv('urls-total.csv')\n",
    "urls4.info()"
   ]
  },
  {
   "cell_type": "code",
   "execution_count": 80,
   "metadata": {},
   "outputs": [
    {
     "name": "stdout",
     "output_type": "stream",
     "text": [
      "<class 'pandas.core.frame.DataFrame'>\n",
      "RangeIndex: 3924 entries, 0 to 3923\n",
      "Data columns (total 1 columns):\n",
      " #   Column  Non-Null Count  Dtype \n",
      "---  ------  --------------  ----- \n",
      " 0   0       3924 non-null   object\n",
      "dtypes: object(1)\n",
      "memory usage: 30.8+ KB\n"
     ]
    }
   ],
   "source": [
    "urls_crawled4 = pd.read_csv('urls-crawled.csv')\n",
    "urls_crawled4.info()"
   ]
  }
 ],
 "metadata": {
  "kernelspec": {
   "display_name": "Python 3",
   "language": "python",
   "name": "python3"
  },
  "language_info": {
   "codemirror_mode": {
    "name": "ipython",
    "version": 3
   },
   "file_extension": ".py",
   "mimetype": "text/x-python",
   "name": "python",
   "nbconvert_exporter": "python",
   "pygments_lexer": "ipython3",
   "version": "3.10.7"
  }
 },
 "nbformat": 4,
 "nbformat_minor": 2
}
